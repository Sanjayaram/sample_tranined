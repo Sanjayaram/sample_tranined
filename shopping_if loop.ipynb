{
 "cells": [
  {
   "cell_type": "code",
   "execution_count": null,
   "id": "21bb5043",
   "metadata": {},
   "outputs": [],
   "source": [
    "write a if loop for shopping if the salary is more than or equal to 50000. shop jacket if the price is <= to 2k, \n",
    "shop shoe if price<= 2k, shop if shirt is <= 1000. also show balance after shoping."
   ]
  },
  {
   "cell_type": "code",
   "execution_count": null,
   "id": "0a78c54b",
   "metadata": {},
   "outputs": [],
   "source": [
    "salary=int(input())\n",
    "jacket =int(input())\n",
    "shoe = int(input())\n",
    "shirt = int(input())\n",
    "if salary >= 50000:\n",
    "    print (\"let us go for shopping\")\n",
    "    \n",
    "    if jacket <= 2000:\n",
    "        print (\"price of a jacket\", jacket)\n",
    "        print (\"balance after shopping jacket\", salary-jacket)\n",
    "        \n",
    "        \n",
    "    else :\n",
    "            print (\"cant buy jacket for this price\",jacket) \n",
    "            \n",
    "    if shoe <= 2000:\n",
    "            print (\"price of shoe\" , shoe)\n",
    "            \n",
    "            if jacket <=2000 and shoe <= 2000:\n",
    "                print (\"balance after shopping shoe\", salary-jacket-shoe)\n",
    "            elif shoe <= 2000: \n",
    "                print (\"balance after shopping shoe\", salary-shoe)\n",
    "            \n",
    "    else :\n",
    "            print (\"cant buy shoe for this price\",shoe)   \n",
    "            \n",
    "    if shirt <= 1000:\n",
    "            print (\"Price of T-shirt\", shirt)\n",
    "            \n",
    "            if jacket <=2000 and shoe <= 2000 and shirt<=1000:\n",
    "                print (\"balance after shopping shoe\", salary-jacket-shoe-shirt)\n",
    "            elif jacket <=2000 and shirt <= 1000: \n",
    "                print (\"balance after shopping shoe\", salary-jacket-shirt)\n",
    "            elif shoe <=2000 and shirt <= 1000: \n",
    "                print (\"balance after shopping shoe\", salary-shoe-shirt)\n",
    "            elif shirt <= 1000: \n",
    "                print (\"balance after shopping shoe\", salary-shirt)    \n",
    "            \n",
    "    else :\n",
    "            print (\"cant buy shirt for this price\",shirt) \n",
    "                \n",
    "else :\n",
    "    print (\"no shopping\")\n",
    "    print (\"salary need to be saved\")"
   ]
  }
 ],
 "metadata": {
  "kernelspec": {
   "display_name": "Python 3 (ipykernel)",
   "language": "python",
   "name": "python3"
  },
  "language_info": {
   "codemirror_mode": {
    "name": "ipython",
    "version": 3
   },
   "file_extension": ".py",
   "mimetype": "text/x-python",
   "name": "python",
   "nbconvert_exporter": "python",
   "pygments_lexer": "ipython3",
   "version": "3.9.12"
  }
 },
 "nbformat": 4,
 "nbformat_minor": 5
}
