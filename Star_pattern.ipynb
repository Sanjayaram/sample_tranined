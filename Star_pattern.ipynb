{
 "cells": [
  {
   "cell_type": "code",
   "execution_count": null,
   "id": "748e6084",
   "metadata": {},
   "outputs": [],
   "source": [
    "star pattern using \"for loop\""
   ]
  },
  {
   "cell_type": "code",
   "execution_count": 12,
   "id": "d5c75a8a",
   "metadata": {},
   "outputs": [
    {
     "name": "stdout",
     "output_type": "stream",
     "text": [
      "8\n",
      "             sant               \n",
      "           sant sant            \n",
      "        sant sant sant          \n",
      "      sant sant sant sant       \n",
      "      sant sant sant sant       \n",
      "        sant sant sant          \n",
      "           sant sant            \n",
      "             sant               \n"
     ]
    }
   ],
   "source": [
    "n=int(input())\n",
    "s=\"sant \"\n",
    "for i in range(n):\n",
    "    if i ==0 :\n",
    "        print (s.center(n*4,' '))\n",
    "    elif n/i > 2:\n",
    "        print ((s*(i+1)).center(n*4,\" \"))\n",
    "    elif n/i == 2:\n",
    "        print ((s*i).center(n*4,\" \"))\n",
    "    elif n/i < 2:\n",
    "        print ((s*(n-i)).center(n*4,\" \"))\n"
   ]
  },
  {
   "cell_type": "code",
   "execution_count": 7,
   "id": "7245c648",
   "metadata": {},
   "outputs": [
    {
     "name": "stdout",
     "output_type": "stream",
     "text": [
      "          sant           \n",
      "        sant sant        \n",
      "     sant sant sant      \n",
      "        sant sant        \n",
      "          sant           \n"
     ]
    }
   ],
   "source": [
    "n=5\n",
    "s=\"sant \"\n",
    "for i in range (n):\n",
    "    if i==0:\n",
    "        print (s.center(n*5,\" \"))\n",
    "    elif n/i > 2:\n",
    "        print ((s*(i+1)).center(n*5,\" \"))\n",
    "    elif n/i == 2:\n",
    "        print ((s*i).center(n*5,\" \"))\n",
    "    elif n/i < 2:\n",
    "        print ((s*(n-i)).center(n*5,\" \"))"
   ]
  },
  {
   "cell_type": "code",
   "execution_count": null,
   "id": "dc754abd",
   "metadata": {},
   "outputs": [],
   "source": []
  }
 ],
 "metadata": {
  "kernelspec": {
   "display_name": "Python 3 (ipykernel)",
   "language": "python",
   "name": "python3"
  },
  "language_info": {
   "codemirror_mode": {
    "name": "ipython",
    "version": 3
   },
   "file_extension": ".py",
   "mimetype": "text/x-python",
   "name": "python",
   "nbconvert_exporter": "python",
   "pygments_lexer": "ipython3",
   "version": "3.9.12"
  }
 },
 "nbformat": 4,
 "nbformat_minor": 5
}
